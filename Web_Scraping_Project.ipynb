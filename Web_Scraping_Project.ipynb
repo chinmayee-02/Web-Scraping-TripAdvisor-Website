{
 "cells": [
  {
   "cell_type": "markdown",
   "id": "fcf6b1aa",
   "metadata": {},
   "source": [
    "# Web Scraping: Tripadvisor Restaurants in Baltimore"
   ]
  },
  {
   "cell_type": "code",
   "execution_count": 1,
   "id": "7638254f",
   "metadata": {},
   "outputs": [],
   "source": [
    "import requests\n",
    "from bs4 import BeautifulSoup\n",
    "import csv\n",
    "import pandas as pd\n",
    "import re\n",
    "import matplotlib.pyplot as plt\n",
    "%matplotlib inline "
   ]
  },
  {
   "cell_type": "code",
   "execution_count": null,
   "id": "70820937",
   "metadata": {},
   "outputs": [],
   "source": [
    "\n"
   ]
  },
  {
   "cell_type": "code",
   "execution_count": 2,
   "id": "9887af43",
   "metadata": {},
   "outputs": [],
   "source": [
    "headers = {\n",
    "        'Access-Control-Allow-Origin': '*',\n",
    "        'Access-Control-Allow-Methods': 'GET',\n",
    "        'Access-Control-Allow-Headers': 'Content-Type',\n",
    "        'accept': '*/*',\n",
    "        'accept-encoding': 'gzip, deflate',\n",
    "        'accept-language': 'en,mr;q=0.9',\n",
    "        'User-Agent': 'Mozilla/5.0 (Windows NT 10.0; Win64; x64) AppleWebKit/537.36 (KHTML, like Gecko) Chrome/95.0.4638.69 Safari/537.36'}\n"
   ]
  },
  {
   "cell_type": "code",
   "execution_count": 3,
   "id": "a52e049d",
   "metadata": {},
   "outputs": [],
   "source": [
    "# Lists to store extracted data\n",
    "names=[]\n",
    "total_rating=[]\n",
    "cuisines=[]\n",
    "prices=[]\n",
    "stars=[]\n",
    "#reviews=[]"
   ]
  },
  {
   "cell_type": "code",
   "execution_count": 4,
   "id": "b40fd3d3",
   "metadata": {},
   "outputs": [
    {
     "name": "stdout",
     "output_type": "stream",
     "text": [
      "0\n",
      "https://www.tripadvisor.com/Restaurants-g60811-oa0-Baltimore_Maryland.html#EATERY_LIST_CONTENTS\n",
      "30\n",
      "https://www.tripadvisor.com/Restaurants-g60811-oa30-Baltimore_Maryland.html#EATERY_LIST_CONTENTS\n",
      "60\n",
      "https://www.tripadvisor.com/Restaurants-g60811-oa60-Baltimore_Maryland.html#EATERY_LIST_CONTENTS\n",
      "90\n",
      "https://www.tripadvisor.com/Restaurants-g60811-oa90-Baltimore_Maryland.html#EATERY_LIST_CONTENTS\n",
      "120\n",
      "https://www.tripadvisor.com/Restaurants-g60811-oa120-Baltimore_Maryland.html#EATERY_LIST_CONTENTS\n",
      "150\n",
      "https://www.tripadvisor.com/Restaurants-g60811-oa150-Baltimore_Maryland.html#EATERY_LIST_CONTENTS\n"
     ]
    }
   ],
   "source": [
    "# Data Extraction (Reference for loop range and next page url: https://stackoverflow.com/questions/39922317/for-loop-trying-to-scrape-tripadvisor-restaurant-data )\n",
    "for i in range(0,180,30):\n",
    "    print(i)\n",
    "    url1 = 'https://www.tripadvisor.com/Restaurants-g60811-oa' + str(i) + '-Baltimore_Maryland.html#EATERY_LIST_CONTENTS'\n",
    "    print(url1)\n",
    "    r1 = requests.get(url1,headers=headers)\n",
    "    soup = BeautifulSoup(r1.content, 'html.parser')\n",
    "\n",
    "    #review = soup.find_all(class_=\"XllAv H4 _a\").get_text()\n",
    "    #print(review)\n",
    "    for x in soup.body.find_all(class_=\"cauvp Gi o\"):\n",
    "        name = x.find(class_=\"bHGqj Cj b\").get_text(strip=True)\n",
    "        names.append(name)\n",
    "        \n",
    "        rating_no = x.find(class_=\"NoCoR\").get_text(strip=True)\n",
    "        total_rating.append(rating_no)\n",
    "        #print(rating_no)\n",
    "    \n",
    "        span_f = x.find(\"div\",class_=\"bhDlF bPJHV eQXRG\")\n",
    "    \n",
    "        cuisine=span_f.find(\"span\",class_=\"ceUbJ\").contents[0]\n",
    "        cuisines.append(cuisine)\n",
    "    \n",
    "        price=span_f.find_next(\"span\",class_=\"ceUbJ\").find_next(\"span\",class_=\"ceUbJ\").get_text(strip=True)\n",
    "        prices.append(price)\n",
    "    \n",
    "        star=x.find(class_=\"RWYkj d H0\")[\"aria-label\"]\n",
    "        stars.append(star)\n",
    "        #print(star)"
   ]
  },
  {
   "cell_type": "code",
   "execution_count": 5,
   "id": "d246938a",
   "metadata": {},
   "outputs": [],
   "source": [
    "#for name in names:\n",
    "#    print(name)"
   ]
  },
  {
   "cell_type": "code",
   "execution_count": 6,
   "id": "fe1857ea",
   "metadata": {},
   "outputs": [],
   "source": [
    "#for c in cuisines:\n",
    "#    print(c)\n",
    "#len(cuisines)\n",
    "    \n",
    "#for p in prices:\n",
    "#    print(p)\n",
    "    \n",
    "#for s in stars:\n",
    "#    print(s)"
   ]
  },
  {
   "cell_type": "code",
   "execution_count": 7,
   "id": "223ead7a",
   "metadata": {},
   "outputs": [
    {
     "name": "stdout",
     "output_type": "stream",
     "text": [
      "<class 'pandas.core.frame.DataFrame'>\n",
      "RangeIndex: 180 entries, 0 to 179\n",
      "Data columns (total 5 columns):\n",
      " #   Column        Non-Null Count  Dtype \n",
      "---  ------        --------------  ----- \n",
      " 0   restaurant    180 non-null    object\n",
      " 1   cuisine       180 non-null    object\n",
      " 2   price         180 non-null    object\n",
      " 3   star          180 non-null    object\n",
      " 4   review count  180 non-null    object\n",
      "dtypes: object(5)\n",
      "memory usage: 7.2+ KB\n",
      "None\n"
     ]
    },
    {
     "data": {
      "text/html": [
       "<div>\n",
       "<style scoped>\n",
       "    .dataframe tbody tr th:only-of-type {\n",
       "        vertical-align: middle;\n",
       "    }\n",
       "\n",
       "    .dataframe tbody tr th {\n",
       "        vertical-align: top;\n",
       "    }\n",
       "\n",
       "    .dataframe thead th {\n",
       "        text-align: right;\n",
       "    }\n",
       "</style>\n",
       "<table border=\"1\" class=\"dataframe\">\n",
       "  <thead>\n",
       "    <tr style=\"text-align: right;\">\n",
       "      <th></th>\n",
       "      <th>restaurant</th>\n",
       "      <th>cuisine</th>\n",
       "      <th>price</th>\n",
       "      <th>star</th>\n",
       "      <th>review count</th>\n",
       "    </tr>\n",
       "  </thead>\n",
       "  <tbody>\n",
       "    <tr>\n",
       "      <th>0</th>\n",
       "      <td>1.Di Pasquale's Italian Marketplace &amp; Deli</td>\n",
       "      <td>Italian, Pizza</td>\n",
       "      <td>$$ - $$$</td>\n",
       "      <td>5.0 of 5 bubbles</td>\n",
       "      <td>694reviews</td>\n",
       "    </tr>\n",
       "    <tr>\n",
       "      <th>1</th>\n",
       "      <td>2.Joe Benny's Focacceria</td>\n",
       "      <td>Italian, Pizza</td>\n",
       "      <td>$$ - $$$</td>\n",
       "      <td>5.0 of 5 bubbles</td>\n",
       "      <td>215reviews</td>\n",
       "    </tr>\n",
       "    <tr>\n",
       "      <th>2</th>\n",
       "      <td>3.Charleston Restaurant</td>\n",
       "      <td>American</td>\n",
       "      <td>$$$$</td>\n",
       "      <td>4.5 of 5 bubbles</td>\n",
       "      <td>943reviews</td>\n",
       "    </tr>\n",
       "    <tr>\n",
       "      <th>3</th>\n",
       "      <td>4.La Tavola</td>\n",
       "      <td>Seafood, Italian</td>\n",
       "      <td>$$ - $$$</td>\n",
       "      <td>4.5 of 5 bubbles</td>\n",
       "      <td>682reviews</td>\n",
       "    </tr>\n",
       "    <tr>\n",
       "      <th>4</th>\n",
       "      <td>5.Thames Street Oyster House</td>\n",
       "      <td>American, Bar</td>\n",
       "      <td>$$ - $$$</td>\n",
       "      <td>4.5 of 5 bubbles</td>\n",
       "      <td>2,105reviews</td>\n",
       "    </tr>\n",
       "  </tbody>\n",
       "</table>\n",
       "</div>"
      ],
      "text/plain": [
       "                                   restaurant           cuisine     price  \\\n",
       "0  1.Di Pasquale's Italian Marketplace & Deli    Italian, Pizza  $$ - $$$   \n",
       "1                    2.Joe Benny's Focacceria    Italian, Pizza  $$ - $$$   \n",
       "2                     3.Charleston Restaurant          American      $$$$   \n",
       "3                                 4.La Tavola  Seafood, Italian  $$ - $$$   \n",
       "4                5.Thames Street Oyster House     American, Bar  $$ - $$$   \n",
       "\n",
       "               star  review count  \n",
       "0  5.0 of 5 bubbles    694reviews  \n",
       "1  5.0 of 5 bubbles    215reviews  \n",
       "2  4.5 of 5 bubbles    943reviews  \n",
       "3  4.5 of 5 bubbles    682reviews  \n",
       "4  4.5 of 5 bubbles  2,105reviews  "
      ]
     },
     "execution_count": 7,
     "metadata": {},
     "output_type": "execute_result"
    }
   ],
   "source": [
    "# Storing data as dataframe \n",
    "\n",
    "\n",
    "baltimore_restaurants = pd.DataFrame({'restaurant': names,\n",
    "                              'cuisine': cuisines,\n",
    "                              'price': prices,\n",
    "                              'star': stars,\n",
    "                                     'review count':total_rating})\n",
    "print(baltimore_restaurants.info())\n",
    "baltimore_restaurants.head(5)"
   ]
  },
  {
   "cell_type": "code",
   "execution_count": 8,
   "id": "3a8389be",
   "metadata": {},
   "outputs": [
    {
     "data": {
      "text/html": [
       "<div>\n",
       "<style scoped>\n",
       "    .dataframe tbody tr th:only-of-type {\n",
       "        vertical-align: middle;\n",
       "    }\n",
       "\n",
       "    .dataframe tbody tr th {\n",
       "        vertical-align: top;\n",
       "    }\n",
       "\n",
       "    .dataframe thead th {\n",
       "        text-align: right;\n",
       "    }\n",
       "</style>\n",
       "<table border=\"1\" class=\"dataframe\">\n",
       "  <thead>\n",
       "    <tr style=\"text-align: right;\">\n",
       "      <th></th>\n",
       "      <th>restaurant</th>\n",
       "      <th>cuisine</th>\n",
       "      <th>price</th>\n",
       "      <th>star</th>\n",
       "      <th>review count</th>\n",
       "    </tr>\n",
       "  </thead>\n",
       "  <tbody>\n",
       "    <tr>\n",
       "      <th>0</th>\n",
       "      <td>1.Di Pasquale's Italian Marketplace &amp; Deli</td>\n",
       "      <td>Italian, Pizza</td>\n",
       "      <td>$$ - $$$</td>\n",
       "      <td>5.0 of 5 bubbles</td>\n",
       "      <td>694reviews</td>\n",
       "    </tr>\n",
       "    <tr>\n",
       "      <th>1</th>\n",
       "      <td>2.Joe Benny's Focacceria</td>\n",
       "      <td>Italian, Pizza</td>\n",
       "      <td>$$ - $$$</td>\n",
       "      <td>5.0 of 5 bubbles</td>\n",
       "      <td>215reviews</td>\n",
       "    </tr>\n",
       "    <tr>\n",
       "      <th>2</th>\n",
       "      <td>3.Charleston Restaurant</td>\n",
       "      <td>American</td>\n",
       "      <td>$$$$</td>\n",
       "      <td>4.5 of 5 bubbles</td>\n",
       "      <td>943reviews</td>\n",
       "    </tr>\n",
       "    <tr>\n",
       "      <th>3</th>\n",
       "      <td>4.La Tavola</td>\n",
       "      <td>Seafood, Italian</td>\n",
       "      <td>$$ - $$$</td>\n",
       "      <td>4.5 of 5 bubbles</td>\n",
       "      <td>682reviews</td>\n",
       "    </tr>\n",
       "    <tr>\n",
       "      <th>4</th>\n",
       "      <td>5.Thames Street Oyster House</td>\n",
       "      <td>American, Bar</td>\n",
       "      <td>$$ - $$$</td>\n",
       "      <td>4.5 of 5 bubbles</td>\n",
       "      <td>2,105reviews</td>\n",
       "    </tr>\n",
       "  </tbody>\n",
       "</table>\n",
       "</div>"
      ],
      "text/plain": [
       "                                   restaurant           cuisine     price  \\\n",
       "0  1.Di Pasquale's Italian Marketplace & Deli    Italian, Pizza  $$ - $$$   \n",
       "1                    2.Joe Benny's Focacceria    Italian, Pizza  $$ - $$$   \n",
       "2                     3.Charleston Restaurant          American      $$$$   \n",
       "3                                 4.La Tavola  Seafood, Italian  $$ - $$$   \n",
       "4                5.Thames Street Oyster House     American, Bar  $$ - $$$   \n",
       "\n",
       "               star  review count  \n",
       "0  5.0 of 5 bubbles    694reviews  \n",
       "1  5.0 of 5 bubbles    215reviews  \n",
       "2  4.5 of 5 bubbles    943reviews  \n",
       "3  4.5 of 5 bubbles    682reviews  \n",
       "4  4.5 of 5 bubbles  2,105reviews  "
      ]
     },
     "execution_count": 8,
     "metadata": {},
     "output_type": "execute_result"
    }
   ],
   "source": [
    "baltimore_restaurants = baltimore_restaurants[['restaurant', 'cuisine', 'price', 'star','review count']]\n",
    "baltimore_restaurants.head()"
   ]
  },
  {
   "cell_type": "code",
   "execution_count": 9,
   "id": "fd32807d",
   "metadata": {},
   "outputs": [
    {
     "name": "stderr",
     "output_type": "stream",
     "text": [
      "<ipython-input-9-8c5f32249cf5>:3: FutureWarning: The default value of regex will change from True to False in a future version.\n",
      "  baltimore_restaurants['restaurant'] = baltimore_restaurants['restaurant'].str.replace('[^a-zA-Z]', '')\n"
     ]
    }
   ],
   "source": [
    "# Pre-processing of ratings to remove numbers from the string\n",
    "\n",
    "baltimore_restaurants['restaurant'] = baltimore_restaurants['restaurant'].str.replace('[^a-zA-Z]', '')"
   ]
  },
  {
   "cell_type": "code",
   "execution_count": 10,
   "id": "7f385d4c",
   "metadata": {},
   "outputs": [
    {
     "data": {
      "text/plain": [
       "0      5.0\n",
       "1      5.0\n",
       "2      4.5\n",
       "3      4.5\n",
       "4      4.5\n",
       "      ... \n",
       "175    4.0\n",
       "176    4.0\n",
       "177    5.0\n",
       "178    4.5\n",
       "179    4.0\n",
       "Name: rating, Length: 180, dtype: float64"
      ]
     },
     "execution_count": 10,
     "metadata": {},
     "output_type": "execute_result"
    }
   ],
   "source": [
    "# Pre-processing of ratings and conveting it into numeric type\n",
    "baltimore_restaurants['rating'] = pd.to_numeric(baltimore_restaurants['star'].str[:4])\n",
    "baltimore_restaurants['rating']"
   ]
  },
  {
   "cell_type": "code",
   "execution_count": 11,
   "id": "1f8624e4",
   "metadata": {},
   "outputs": [
    {
     "data": {
      "text/html": [
       "<div>\n",
       "<style scoped>\n",
       "    .dataframe tbody tr th:only-of-type {\n",
       "        vertical-align: middle;\n",
       "    }\n",
       "\n",
       "    .dataframe tbody tr th {\n",
       "        vertical-align: top;\n",
       "    }\n",
       "\n",
       "    .dataframe thead th {\n",
       "        text-align: right;\n",
       "    }\n",
       "</style>\n",
       "<table border=\"1\" class=\"dataframe\">\n",
       "  <thead>\n",
       "    <tr style=\"text-align: right;\">\n",
       "      <th></th>\n",
       "      <th>restaurant</th>\n",
       "      <th>cuisine</th>\n",
       "      <th>price</th>\n",
       "      <th>star</th>\n",
       "      <th>review count</th>\n",
       "      <th>rating</th>\n",
       "    </tr>\n",
       "  </thead>\n",
       "  <tbody>\n",
       "    <tr>\n",
       "      <th>0</th>\n",
       "      <td>DiPasqualesItalianMarketplaceDeli</td>\n",
       "      <td>Italian, Pizza</td>\n",
       "      <td>$$ - $$$</td>\n",
       "      <td>5.0 of 5 bubbles</td>\n",
       "      <td>694reviews</td>\n",
       "      <td>5.0</td>\n",
       "    </tr>\n",
       "    <tr>\n",
       "      <th>1</th>\n",
       "      <td>JoeBennysFocacceria</td>\n",
       "      <td>Italian, Pizza</td>\n",
       "      <td>$$ - $$$</td>\n",
       "      <td>5.0 of 5 bubbles</td>\n",
       "      <td>215reviews</td>\n",
       "      <td>5.0</td>\n",
       "    </tr>\n",
       "    <tr>\n",
       "      <th>2</th>\n",
       "      <td>CharlestonRestaurant</td>\n",
       "      <td>American</td>\n",
       "      <td>$$$$</td>\n",
       "      <td>4.5 of 5 bubbles</td>\n",
       "      <td>943reviews</td>\n",
       "      <td>4.5</td>\n",
       "    </tr>\n",
       "    <tr>\n",
       "      <th>3</th>\n",
       "      <td>LaTavola</td>\n",
       "      <td>Seafood, Italian</td>\n",
       "      <td>$$ - $$$</td>\n",
       "      <td>4.5 of 5 bubbles</td>\n",
       "      <td>682reviews</td>\n",
       "      <td>4.5</td>\n",
       "    </tr>\n",
       "    <tr>\n",
       "      <th>4</th>\n",
       "      <td>ThamesStreetOysterHouse</td>\n",
       "      <td>American, Bar</td>\n",
       "      <td>$$ - $$$</td>\n",
       "      <td>4.5 of 5 bubbles</td>\n",
       "      <td>2,105reviews</td>\n",
       "      <td>4.5</td>\n",
       "    </tr>\n",
       "  </tbody>\n",
       "</table>\n",
       "</div>"
      ],
      "text/plain": [
       "                          restaurant           cuisine     price  \\\n",
       "0  DiPasqualesItalianMarketplaceDeli    Italian, Pizza  $$ - $$$   \n",
       "1                JoeBennysFocacceria    Italian, Pizza  $$ - $$$   \n",
       "2               CharlestonRestaurant          American      $$$$   \n",
       "3                           LaTavola  Seafood, Italian  $$ - $$$   \n",
       "4            ThamesStreetOysterHouse     American, Bar  $$ - $$$   \n",
       "\n",
       "               star  review count  rating  \n",
       "0  5.0 of 5 bubbles    694reviews     5.0  \n",
       "1  5.0 of 5 bubbles    215reviews     5.0  \n",
       "2  4.5 of 5 bubbles    943reviews     4.5  \n",
       "3  4.5 of 5 bubbles    682reviews     4.5  \n",
       "4  4.5 of 5 bubbles  2,105reviews     4.5  "
      ]
     },
     "execution_count": 11,
     "metadata": {},
     "output_type": "execute_result"
    }
   ],
   "source": [
    "baltimore_restaurants.head()"
   ]
  },
  {
   "cell_type": "code",
   "execution_count": 12,
   "id": "389ccc13",
   "metadata": {},
   "outputs": [],
   "source": [
    "del baltimore_restaurants['star']"
   ]
  },
  {
   "cell_type": "code",
   "execution_count": 13,
   "id": "273a49f1",
   "metadata": {},
   "outputs": [
    {
     "data": {
      "text/plain": [
       "array(['Italian, Pizza', 'American', 'Seafood, Italian', 'American, Bar',\n",
       "       'Italian', 'American, Steakhouse', 'Middle Eastern, Afghani',\n",
       "       'Mediterranean, Greek', 'Italian, Tuscan', 'Italian, European',\n",
       "       'American, Cafe', 'American, Seafood', 'Mediterranean, European',\n",
       "       'French, European', 'Mediterranean, Seafood',\n",
       "       'Steakhouse, Brazilian', 'Irish, Bar', 'Spanish',\n",
       "       'American, Contemporary', 'Diner, American', 'Indian, Asian',\n",
       "       'American, Mediterranean', 'American, Wine Bar',\n",
       "       'Lebanese, Mediterranean', 'American, Diner', 'Seafood, Bar',\n",
       "       'American, Cajun & Creole', 'American, Pub', 'Bar, Pizza',\n",
       "       'Pizza, Italian', 'Peruvian, Latin', 'Latin, Central American',\n",
       "       'Italian, Bar', 'Italian, Sicilian', 'Seafood, American',\n",
       "       'American, Irish', 'American, Deli', 'Seafood, Mediterranean',\n",
       "       'Asian, Japanese', 'Mexican, Street Food', 'Venezuelan, Latin',\n",
       "       'Latin, Bar', 'Mexican, Southwestern', 'American, Southwestern',\n",
       "       'Mediterranean, Middle Eastern', 'Italian, American',\n",
       "       'Japanese, Sushi', 'American, Sushi', 'American, Gastropub',\n",
       "       'Japanese, Asian', 'American, Barbecue', 'American, Pizza',\n",
       "       'American, Fast Food', '$', 'Middle Eastern, Persian',\n",
       "       'Indian, Diner', 'Indian', 'Mexican, American', 'Mexican, Latin',\n",
       "       'Italian, Contemporary', 'Spanish, Mediterranean',\n",
       "       'Cafe, American', 'Argentinean, Latin', 'Asian, Thai'],\n",
       "      dtype=object)"
      ]
     },
     "execution_count": 13,
     "metadata": {},
     "output_type": "execute_result"
    }
   ],
   "source": [
    "# Unique combinations of cuisines in Baltimore\n",
    "baltimore_restaurants['cuisine'].unique()"
   ]
  },
  {
   "cell_type": "code",
   "execution_count": 14,
   "id": "b3aef010",
   "metadata": {},
   "outputs": [
    {
     "data": {
      "text/html": [
       "<div>\n",
       "<style scoped>\n",
       "    .dataframe tbody tr th:only-of-type {\n",
       "        vertical-align: middle;\n",
       "    }\n",
       "\n",
       "    .dataframe tbody tr th {\n",
       "        vertical-align: top;\n",
       "    }\n",
       "\n",
       "    .dataframe thead th {\n",
       "        text-align: right;\n",
       "    }\n",
       "</style>\n",
       "<table border=\"1\" class=\"dataframe\">\n",
       "  <thead>\n",
       "    <tr style=\"text-align: right;\">\n",
       "      <th></th>\n",
       "      <th>rating</th>\n",
       "    </tr>\n",
       "  </thead>\n",
       "  <tbody>\n",
       "    <tr>\n",
       "      <th>min</th>\n",
       "      <td>3.5</td>\n",
       "    </tr>\n",
       "    <tr>\n",
       "      <th>max</th>\n",
       "      <td>5.0</td>\n",
       "    </tr>\n",
       "  </tbody>\n",
       "</table>\n",
       "</div>"
      ],
      "text/plain": [
       "     rating\n",
       "min     3.5\n",
       "max     5.0"
      ]
     },
     "execution_count": 14,
     "metadata": {},
     "output_type": "execute_result"
    }
   ],
   "source": [
    "# Minimum and maximum rating present in data\n",
    "baltimore_restaurants.describe().loc[['min', 'max'], ['rating']]"
   ]
  },
  {
   "cell_type": "code",
   "execution_count": 15,
   "id": "ea6313dc",
   "metadata": {},
   "outputs": [
    {
     "name": "stderr",
     "output_type": "stream",
     "text": [
      "<ipython-input-15-eaf846669daa>:4: FutureWarning: The default value of regex will change from True to False in a future version.\n",
      "  baltimore_restaurants['total review count'] = baltimore_restaurants['total review count'].str.replace('[^0-9]', '')\n"
     ]
    },
    {
     "data": {
      "text/html": [
       "<div>\n",
       "<style scoped>\n",
       "    .dataframe tbody tr th:only-of-type {\n",
       "        vertical-align: middle;\n",
       "    }\n",
       "\n",
       "    .dataframe tbody tr th {\n",
       "        vertical-align: top;\n",
       "    }\n",
       "\n",
       "    .dataframe thead th {\n",
       "        text-align: right;\n",
       "    }\n",
       "</style>\n",
       "<table border=\"1\" class=\"dataframe\">\n",
       "  <thead>\n",
       "    <tr style=\"text-align: right;\">\n",
       "      <th></th>\n",
       "      <th>restaurant</th>\n",
       "      <th>cuisine</th>\n",
       "      <th>price</th>\n",
       "      <th>review count</th>\n",
       "      <th>rating</th>\n",
       "      <th>total review count</th>\n",
       "    </tr>\n",
       "  </thead>\n",
       "  <tbody>\n",
       "    <tr>\n",
       "      <th>0</th>\n",
       "      <td>DiPasqualesItalianMarketplaceDeli</td>\n",
       "      <td>Italian, Pizza</td>\n",
       "      <td>$$ - $$$</td>\n",
       "      <td>694reviews</td>\n",
       "      <td>5.0</td>\n",
       "      <td>694</td>\n",
       "    </tr>\n",
       "    <tr>\n",
       "      <th>1</th>\n",
       "      <td>JoeBennysFocacceria</td>\n",
       "      <td>Italian, Pizza</td>\n",
       "      <td>$$ - $$$</td>\n",
       "      <td>215reviews</td>\n",
       "      <td>5.0</td>\n",
       "      <td>215</td>\n",
       "    </tr>\n",
       "    <tr>\n",
       "      <th>2</th>\n",
       "      <td>CharlestonRestaurant</td>\n",
       "      <td>American</td>\n",
       "      <td>$$$$</td>\n",
       "      <td>943reviews</td>\n",
       "      <td>4.5</td>\n",
       "      <td>943</td>\n",
       "    </tr>\n",
       "    <tr>\n",
       "      <th>3</th>\n",
       "      <td>LaTavola</td>\n",
       "      <td>Seafood, Italian</td>\n",
       "      <td>$$ - $$$</td>\n",
       "      <td>682reviews</td>\n",
       "      <td>4.5</td>\n",
       "      <td>682</td>\n",
       "    </tr>\n",
       "    <tr>\n",
       "      <th>4</th>\n",
       "      <td>ThamesStreetOysterHouse</td>\n",
       "      <td>American, Bar</td>\n",
       "      <td>$$ - $$$</td>\n",
       "      <td>2,105reviews</td>\n",
       "      <td>4.5</td>\n",
       "      <td>2105</td>\n",
       "    </tr>\n",
       "    <tr>\n",
       "      <th>...</th>\n",
       "      <td>...</td>\n",
       "      <td>...</td>\n",
       "      <td>...</td>\n",
       "      <td>...</td>\n",
       "      <td>...</td>\n",
       "      <td>...</td>\n",
       "    </tr>\n",
       "    <tr>\n",
       "      <th>175</th>\n",
       "      <td>Mezze</td>\n",
       "      <td>Mediterranean, Greek</td>\n",
       "      <td>$$ - $$$</td>\n",
       "      <td>163reviews</td>\n",
       "      <td>4.0</td>\n",
       "      <td>163</td>\n",
       "    </tr>\n",
       "    <tr>\n",
       "      <th>176</th>\n",
       "      <td>CladdaghPub</td>\n",
       "      <td>American, Irish</td>\n",
       "      <td>$$ - $$$</td>\n",
       "      <td>97reviews</td>\n",
       "      <td>4.0</td>\n",
       "      <td>97</td>\n",
       "    </tr>\n",
       "    <tr>\n",
       "      <th>177</th>\n",
       "      <td>LaBarrita</td>\n",
       "      <td>Argentinean, Latin</td>\n",
       "      <td>$$ - $$$</td>\n",
       "      <td>20reviews</td>\n",
       "      <td>5.0</td>\n",
       "      <td>20</td>\n",
       "    </tr>\n",
       "    <tr>\n",
       "      <th>178</th>\n",
       "      <td>MyThai</td>\n",
       "      <td>Asian, Thai</td>\n",
       "      <td>$$ - $$$</td>\n",
       "      <td>66reviews</td>\n",
       "      <td>4.5</td>\n",
       "      <td>66</td>\n",
       "    </tr>\n",
       "    <tr>\n",
       "      <th>179</th>\n",
       "      <td>Encantada</td>\n",
       "      <td>American, Contemporary</td>\n",
       "      <td>$$ - $$$</td>\n",
       "      <td>76reviews</td>\n",
       "      <td>4.0</td>\n",
       "      <td>76</td>\n",
       "    </tr>\n",
       "  </tbody>\n",
       "</table>\n",
       "<p>180 rows × 6 columns</p>\n",
       "</div>"
      ],
      "text/plain": [
       "                            restaurant                 cuisine     price  \\\n",
       "0    DiPasqualesItalianMarketplaceDeli          Italian, Pizza  $$ - $$$   \n",
       "1                  JoeBennysFocacceria          Italian, Pizza  $$ - $$$   \n",
       "2                 CharlestonRestaurant                American      $$$$   \n",
       "3                             LaTavola        Seafood, Italian  $$ - $$$   \n",
       "4              ThamesStreetOysterHouse           American, Bar  $$ - $$$   \n",
       "..                                 ...                     ...       ...   \n",
       "175                              Mezze    Mediterranean, Greek  $$ - $$$   \n",
       "176                        CladdaghPub         American, Irish  $$ - $$$   \n",
       "177                          LaBarrita      Argentinean, Latin  $$ - $$$   \n",
       "178                             MyThai             Asian, Thai  $$ - $$$   \n",
       "179                          Encantada  American, Contemporary  $$ - $$$   \n",
       "\n",
       "     review count  rating total review count  \n",
       "0      694reviews     5.0                694  \n",
       "1      215reviews     5.0                215  \n",
       "2      943reviews     4.5                943  \n",
       "3      682reviews     4.5                682  \n",
       "4    2,105reviews     4.5               2105  \n",
       "..            ...     ...                ...  \n",
       "175    163reviews     4.0                163  \n",
       "176     97reviews     4.0                 97  \n",
       "177     20reviews     5.0                 20  \n",
       "178     66reviews     4.5                 66  \n",
       "179     76reviews     4.0                 76  \n",
       "\n",
       "[180 rows x 6 columns]"
      ]
     },
     "execution_count": 15,
     "metadata": {},
     "output_type": "execute_result"
    }
   ],
   "source": [
    "# Regular expression for removing alphabets from review count \n",
    "\n",
    "baltimore_restaurants['total review count'] = baltimore_restaurants['review count'].str.replace(\",\",\"\")\n",
    "baltimore_restaurants['total review count'] = baltimore_restaurants['total review count'].str.replace('[^0-9]', '')\n",
    "\n",
    "baltimore_restaurants"
   ]
  },
  {
   "cell_type": "code",
   "execution_count": 16,
   "id": "0aea25c9",
   "metadata": {},
   "outputs": [
    {
     "data": {
      "text/plain": [
       "0       694\n",
       "1       215\n",
       "2       943\n",
       "3       682\n",
       "4      2105\n",
       "       ... \n",
       "175     163\n",
       "176      97\n",
       "177      20\n",
       "178      66\n",
       "179      76\n",
       "Name: total review count, Length: 180, dtype: int64"
      ]
     },
     "execution_count": 16,
     "metadata": {},
     "output_type": "execute_result"
    }
   ],
   "source": [
    "# Converting review count to numeric type\n",
    "baltimore_restaurants['total review count'] = pd.to_numeric(baltimore_restaurants['total review count'].str[:6])\n",
    "baltimore_restaurants['total review count']"
   ]
  },
  {
   "cell_type": "code",
   "execution_count": 17,
   "id": "146ebab0",
   "metadata": {},
   "outputs": [],
   "source": [
    "del baltimore_restaurants['review count']"
   ]
  },
  {
   "cell_type": "code",
   "execution_count": 18,
   "id": "b4e552d4",
   "metadata": {},
   "outputs": [],
   "source": [
    "# Storing the final processed data in csv formtat\n",
    "\n",
    "baltimore_restaurants.to_csv('baltimore_restaurants.csv')"
   ]
  },
  {
   "cell_type": "code",
   "execution_count": 21,
   "id": "deecdf41",
   "metadata": {},
   "outputs": [
    {
     "data": {
      "text/plain": [
       "Text(0, 0.5, 'Restaurant Count')"
      ]
     },
     "execution_count": 21,
     "metadata": {},
     "output_type": "execute_result"
    },
    {
     "data": {
      "image/png": "[encoded data removed]",
      "text/plain": [
       "<Figure size 432x288 with 1 Axes>"
      ]
     },
     "metadata": {
      "needs_background": "light"
     },
     "output_type": "display_data"
    }
   ],
   "source": [
    "# Histogram for showing distribution of restaurants acroass ratings ranging from 0-5\n",
    "\n",
    "plt.hist(baltimore_restaurants['rating'], bins = 5, range = (0,5)) # bin range = 1\n",
    "plt.title('Baltimore Restaurants rating')\n",
    "plt.xlabel(\"Rating\")\n",
    "plt.ylabel(\"Restaurant Count\")"
   ]
  },
  {
   "cell_type": "code",
   "execution_count": 22,
   "id": "00898756",
   "metadata": {},
   "outputs": [
    {
     "name": "stdout",
     "output_type": "stream",
     "text": [
      "   Unnamed: 0                         restaurant           cuisine     price  \\\n",
      "0           0  DiPasqualesItalianMarketplaceDeli    Italian, Pizza  $$ - $$$   \n",
      "1           1                JoeBennysFocacceria    Italian, Pizza  $$ - $$$   \n",
      "2           2               CharlestonRestaurant          American      $$$$   \n",
      "3           3                           LaTavola  Seafood, Italian  $$ - $$$   \n",
      "4           4            ThamesStreetOysterHouse     American, Bar  $$ - $$$   \n",
      "\n",
      "   rating  total review count  \n",
      "0     5.0                 694  \n",
      "1     5.0                 215  \n",
      "2     4.5                 943  \n",
      "3     4.5                 682  \n",
      "4     4.5                2105  \n"
     ]
    },
    {
     "data": {
      "text/plain": [
       "pandas.core.frame.DataFrame"
      ]
     },
     "execution_count": 22,
     "metadata": {},
     "output_type": "execute_result"
    }
   ],
   "source": [
    "# Reading data from csv file\n",
    "\n",
    "df = pd.read_csv(\"baltimore_restaurants.csv\")\n",
    "\n",
    "print(df[0:5])\n",
    "type(df)"
   ]
  },
  {
   "cell_type": "code",
   "execution_count": 33,
   "id": "44e66e3d",
   "metadata": {},
   "outputs": [
    {
     "data": {
      "text/plain": [
       "pandas.core.frame.DataFrame"
      ]
     },
     "execution_count": 33,
     "metadata": {},
     "output_type": "execute_result"
    }
   ],
   "source": [
    "dummy=df.iloc[:,[2,4]]\n",
    "#dummy\n",
    "y1=pd.DataFrame(dummy.groupby('cuisine')['rating'].count())\n",
    "#y1\n",
    "topRating = y1.sort_values(by=['rating'], ascending=False).nlargest(10, 'rating')\n",
    "type(topRating)"
   ]
  },
  {
   "cell_type": "code",
   "execution_count": 35,
   "id": "2305bc90",
   "metadata": {},
   "outputs": [
    {
     "data": {
      "text/plain": [
       "Text(0, 0.5, 'Rating Count')"
      ]
     },
     "execution_count": 35,
     "metadata": {},
     "output_type": "execute_result"
    },
    {
     "data": {
      "image/png": "[encoded data removed]",
      "text/plain": [
       "<Figure size 432x288 with 1 Axes>"
      ]
     },
     "metadata": {
      "needs_background": "light"
     },
     "output_type": "display_data"
    }
   ],
   "source": [
    "# Bar Chart for 10 top most ratings\n",
    "plot = topRating.plot(kind='bar')\n",
    "plt.title('Top10 Most Rated Cuisines')\n",
    "plot.set_xlabel(\"Cuisine\")\n",
    "plot.set_ylabel(\"Rating Count\")\n",
    "#plt.savefig('Best Reviewed.png')\n",
    "#plt.show()"
   ]
  },
  {
   "cell_type": "code",
   "execution_count": 25,
   "id": "96ac954e",
   "metadata": {},
   "outputs": [
    {
     "data": {
      "text/html": [
       "<div>\n",
       "<style scoped>\n",
       "    .dataframe tbody tr th:only-of-type {\n",
       "        vertical-align: middle;\n",
       "    }\n",
       "\n",
       "    .dataframe tbody tr th {\n",
       "        vertical-align: top;\n",
       "    }\n",
       "\n",
       "    .dataframe thead th {\n",
       "        text-align: right;\n",
       "    }\n",
       "</style>\n",
       "<table border=\"1\" class=\"dataframe\">\n",
       "  <thead>\n",
       "    <tr style=\"text-align: right;\">\n",
       "      <th></th>\n",
       "      <th>rating</th>\n",
       "    </tr>\n",
       "    <tr>\n",
       "      <th>price</th>\n",
       "      <th></th>\n",
       "    </tr>\n",
       "  </thead>\n",
       "  <tbody>\n",
       "    <tr>\n",
       "      <th>$$ - $$$</th>\n",
       "      <td>145</td>\n",
       "    </tr>\n",
       "    <tr>\n",
       "      <th>$$$$</th>\n",
       "      <td>23</td>\n",
       "    </tr>\n",
       "    <tr>\n",
       "      <th>$</th>\n",
       "      <td>11</td>\n",
       "    </tr>\n",
       "    <tr>\n",
       "      <th>79reviews</th>\n",
       "      <td>1</td>\n",
       "    </tr>\n",
       "  </tbody>\n",
       "</table>\n",
       "</div>"
      ],
      "text/plain": [
       "           rating\n",
       "price            \n",
       "$$ - $$$      145\n",
       "$$$$           23\n",
       "$              11\n",
       "79reviews       1"
      ]
     },
     "execution_count": 25,
     "metadata": {},
     "output_type": "execute_result"
    }
   ],
   "source": [
    "dummy1=df.iloc[:,[3,4]]\n",
    "#dummy\n",
    "y2=pd.DataFrame(dummy1.groupby('price')['rating'].count())\n",
    "#y1\n",
    "topRating1 = y2.sort_values(by=['rating'], ascending=False).nlargest(10, 'rating')\n",
    "topRating1\n",
    "#topRating1['prices'] = topRating1['price'].str.replace('\\$\\$','\\\\$\\\\$')"
   ]
  },
  {
   "cell_type": "code",
   "execution_count": 26,
   "id": "abb119ea",
   "metadata": {},
   "outputs": [
    {
     "name": "stderr",
     "output_type": "stream",
     "text": [
      "<ipython-input-26-63b7b2dbb959>:5: FutureWarning: Indexing with multiple keys (implicitly converted to a tuple of keys) will be deprecated, use a list instead.\n",
      "  y3=pd.DataFrame(dummy2.groupby(['rating'])['total review count','rating'].mean())\n"
     ]
    },
    {
     "data": {
      "text/plain": [
       "Text(0, 0.5, 'Avg Review Count')"
      ]
     },
     "execution_count": 26,
     "metadata": {},
     "output_type": "execute_result"
    },
    {
     "data": {
      "image/png": "[encoded data removed]",
      "text/plain": [
       "<Figure size 432x288 with 1 Axes>"
      ]
     },
     "metadata": {
      "needs_background": "light"
     },
     "output_type": "display_data"
    }
   ],
   "source": [
    "# Plot for Rating based on Average Review Count\n",
    "\n",
    "dummy2=df.iloc[:,[4,5]]\n",
    "\n",
    "y3=pd.DataFrame(dummy2.groupby(['rating'])['total review count','rating'].mean())\n",
    "\n",
    "y3\n",
    "col1=list(round(y3['rating'],2))\n",
    "col2=list(round(y3['total review count'],5))\n",
    "\n",
    "\n",
    "plt.plot(col1,col2)\n",
    "plt.title('Rating based on Average Review Count')\n",
    "plt.xlabel('Rating')\n",
    "plt.ylabel('Avg Review Count')\n",
    "\n",
    "#plt.show()"
   ]
  },
  {
   "cell_type": "code",
   "execution_count": 27,
   "id": "e6cc9866",
   "metadata": {},
   "outputs": [
    {
     "data": {
      "text/html": [
       "<div>\n",
       "<style scoped>\n",
       "    .dataframe tbody tr th:only-of-type {\n",
       "        vertical-align: middle;\n",
       "    }\n",
       "\n",
       "    .dataframe tbody tr th {\n",
       "        vertical-align: top;\n",
       "    }\n",
       "\n",
       "    .dataframe thead th {\n",
       "        text-align: right;\n",
       "    }\n",
       "</style>\n",
       "<table border=\"1\" class=\"dataframe\">\n",
       "  <thead>\n",
       "    <tr style=\"text-align: right;\">\n",
       "      <th></th>\n",
       "      <th>Unnamed: 0</th>\n",
       "      <th>restaurant</th>\n",
       "      <th>cuisine</th>\n",
       "      <th>price</th>\n",
       "      <th>rating</th>\n",
       "      <th>total review count</th>\n",
       "    </tr>\n",
       "  </thead>\n",
       "  <tbody>\n",
       "    <tr>\n",
       "      <th>63</th>\n",
       "      <td>63</td>\n",
       "      <td>PhillipsSeafood</td>\n",
       "      <td>American, Bar</td>\n",
       "      <td>$$ - $$$</td>\n",
       "      <td>4.0</td>\n",
       "      <td>2966</td>\n",
       "    </tr>\n",
       "    <tr>\n",
       "      <th>4</th>\n",
       "      <td>4</td>\n",
       "      <td>ThamesStreetOysterHouse</td>\n",
       "      <td>American, Bar</td>\n",
       "      <td>$$ - $$$</td>\n",
       "      <td>4.5</td>\n",
       "      <td>2105</td>\n",
       "    </tr>\n",
       "    <tr>\n",
       "      <th>28</th>\n",
       "      <td>28</td>\n",
       "      <td>RustyScupper</td>\n",
       "      <td>American, Seafood</td>\n",
       "      <td>$$$$</td>\n",
       "      <td>4.0</td>\n",
       "      <td>1967</td>\n",
       "    </tr>\n",
       "    <tr>\n",
       "      <th>13</th>\n",
       "      <td>13</td>\n",
       "      <td>MissShirleysCafeRolandPark</td>\n",
       "      <td>American</td>\n",
       "      <td>$$ - $$$</td>\n",
       "      <td>4.5</td>\n",
       "      <td>1434</td>\n",
       "    </tr>\n",
       "    <tr>\n",
       "      <th>17</th>\n",
       "      <td>17</td>\n",
       "      <td>MissShirleysCafeInnerHarbor</td>\n",
       "      <td>American</td>\n",
       "      <td>$$ - $$$</td>\n",
       "      <td>4.5</td>\n",
       "      <td>1267</td>\n",
       "    </tr>\n",
       "    <tr>\n",
       "      <th>29</th>\n",
       "      <td>29</td>\n",
       "      <td>WoodberryKitchen</td>\n",
       "      <td>American</td>\n",
       "      <td>$$$$</td>\n",
       "      <td>4.5</td>\n",
       "      <td>1217</td>\n",
       "    </tr>\n",
       "    <tr>\n",
       "      <th>26</th>\n",
       "      <td>26</td>\n",
       "      <td>FogoDeChaoBrazilianSteakhouse</td>\n",
       "      <td>Steakhouse, Brazilian</td>\n",
       "      <td>$$$$</td>\n",
       "      <td>4.5</td>\n",
       "      <td>1018</td>\n",
       "    </tr>\n",
       "    <tr>\n",
       "      <th>54</th>\n",
       "      <td>54</td>\n",
       "      <td>PrattStreetAleHouse</td>\n",
       "      <td>American, Bar</td>\n",
       "      <td>$$ - $$$</td>\n",
       "      <td>4.0</td>\n",
       "      <td>1010</td>\n",
       "    </tr>\n",
       "    <tr>\n",
       "      <th>5</th>\n",
       "      <td>5</td>\n",
       "      <td>DalesiosofLittleItalyRestaurant</td>\n",
       "      <td>Italian</td>\n",
       "      <td>$$ - $$$</td>\n",
       "      <td>4.5</td>\n",
       "      <td>993</td>\n",
       "    </tr>\n",
       "    <tr>\n",
       "      <th>96</th>\n",
       "      <td>96</td>\n",
       "      <td>BubbaGumpShrimpCompany</td>\n",
       "      <td>American, Bar</td>\n",
       "      <td>$$ - $$$</td>\n",
       "      <td>3.5</td>\n",
       "      <td>969</td>\n",
       "    </tr>\n",
       "  </tbody>\n",
       "</table>\n",
       "</div>"
      ],
      "text/plain": [
       "    Unnamed: 0                       restaurant                cuisine  \\\n",
       "63          63                  PhillipsSeafood          American, Bar   \n",
       "4            4          ThamesStreetOysterHouse          American, Bar   \n",
       "28          28                     RustyScupper      American, Seafood   \n",
       "13          13       MissShirleysCafeRolandPark               American   \n",
       "17          17      MissShirleysCafeInnerHarbor               American   \n",
       "29          29                 WoodberryKitchen               American   \n",
       "26          26    FogoDeChaoBrazilianSteakhouse  Steakhouse, Brazilian   \n",
       "54          54              PrattStreetAleHouse          American, Bar   \n",
       "5            5  DalesiosofLittleItalyRestaurant                Italian   \n",
       "96          96           BubbaGumpShrimpCompany          American, Bar   \n",
       "\n",
       "       price  rating  total review count  \n",
       "63  $$ - $$$     4.0                2966  \n",
       "4   $$ - $$$     4.5                2105  \n",
       "28      $$$$     4.0                1967  \n",
       "13  $$ - $$$     4.5                1434  \n",
       "17  $$ - $$$     4.5                1267  \n",
       "29      $$$$     4.5                1217  \n",
       "26      $$$$     4.5                1018  \n",
       "54  $$ - $$$     4.0                1010  \n",
       "5   $$ - $$$     4.5                 993  \n",
       "96  $$ - $$$     3.5                 969  "
      ]
     },
     "execution_count": 27,
     "metadata": {},
     "output_type": "execute_result"
    }
   ],
   "source": [
    "# Plot for most reviewed restaurants\n",
    "\n",
    "topRating2 = df.sort_values(by=['total review count'], ascending=False).nlargest(10, 'total review count')\n",
    "topRating2"
   ]
  },
  {
   "cell_type": "code",
   "execution_count": 28,
   "id": "76b93404",
   "metadata": {},
   "outputs": [
    {
     "data": {
      "text/plain": [
       "Text(0, 0.5, 'Total Review Count')"
      ]
     },
     "execution_count": 28,
     "metadata": {},
     "output_type": "execute_result"
    },
    {
     "data": {
      "image/png": "[encoded data removed]",
      "text/plain": [
       "<Figure size 432x288 with 1 Axes>"
      ]
     },
     "metadata": {
      "needs_background": "light"
     },
     "output_type": "display_data"
    }
   ],
   "source": [
    "# Bar Chart for 10 top most reviewed Restaurants\n",
    "plot = topRating2.plot(kind='bar', title='Best Movies between 2000-2017', x='restaurant', y='total review count')\n",
    "plt.title('Top10 most reviewed Restaurants')\n",
    "plot.set_xlabel(\"Restaurant\")\n",
    "plot.set_ylabel(\"Total Review Count\")\n"
   ]
  },
  {
   "cell_type": "code",
   "execution_count": 30,
   "id": "397692ab",
   "metadata": {},
   "outputs": [],
   "source": [
    "# Other References:\n",
    "# Reference for headers : https://stackoverflow.com/questions/69946941/python-beautifulsoup-web-scraping-tripadvisor-view-a-review\n",
    "# Reference for span cuisine : https://intellipaat.com/community/13892/extracting-embedded-span-in-python-using-beautifulsoup\n",
    "# Reference for using find_next : https://stackoverflow.com/questions/59807707/how-can-i-get-the-second-span-using-beautifulsoup-in-python\n",
    "# Reference: https://iu.instructure.com/courses/2058564/files/130487187?module_item_id=25365363&fd_cookie_set=1"
   ]
  },
  {
   "cell_type": "code",
   "execution_count": null,
   "id": "cda11a34",
   "metadata": {},
   "outputs": [],
   "source": []
  }
 ],
 "metadata": {
  "kernelspec": {
   "display_name": "Python 3",
   "language": "python",
   "name": "python3"
  },
  "language_info": {
   "codemirror_mode": {
    "name": "ipython",
    "version": 3
   },
   "file_extension": ".py",
   "mimetype": "text/x-python",
   "name": "python",
   "nbconvert_exporter": "python",
   "pygments_lexer": "ipython3",
   "version": "3.8.8"
  }
 },
 "nbformat": 4,
 "nbformat_minor": 5
}
